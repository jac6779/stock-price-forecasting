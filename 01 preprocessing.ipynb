{
 "cells": [
  {
   "cell_type": "markdown",
   "id": "bc88df9a",
   "metadata": {},
   "source": [
    "#### Import libraries"
   ]
  },
  {
   "cell_type": "code",
   "execution_count": 2,
   "id": "8e61eeb9",
   "metadata": {},
   "outputs": [],
   "source": [
    "import pandas as pd\n",
    "import numpy as np\n",
    "import datetime"
   ]
  },
  {
   "cell_type": "code",
   "execution_count": 3,
   "id": "90d500e0",
   "metadata": {},
   "outputs": [
    {
     "name": "stdout",
     "output_type": "stream",
     "text": [
      "Today is 2025-02-03\n"
     ]
    }
   ],
   "source": [
    "today = datetime.datetime.today()\n",
    "today = today.strftime('%Y-%m-%d')\n",
    "\n",
    "print(\"Today is \" + str(today))"
   ]
  },
  {
   "cell_type": "markdown",
   "id": "6edfc173",
   "metadata": {},
   "source": [
    "#### Import data\n",
    "Source: https://www.nasdaq.com/market-activity/stocks"
   ]
  },
  {
   "cell_type": "code",
   "execution_count": 5,
   "id": "61bfec79",
   "metadata": {},
   "outputs": [
    {
     "data": {
      "text/html": [
       "<div>\n",
       "<style scoped>\n",
       "    .dataframe tbody tr th:only-of-type {\n",
       "        vertical-align: middle;\n",
       "    }\n",
       "\n",
       "    .dataframe tbody tr th {\n",
       "        vertical-align: top;\n",
       "    }\n",
       "\n",
       "    .dataframe thead th {\n",
       "        text-align: right;\n",
       "    }\n",
       "</style>\n",
       "<table border=\"1\" class=\"dataframe\">\n",
       "  <thead>\n",
       "    <tr style=\"text-align: right;\">\n",
       "      <th></th>\n",
       "      <th>Date</th>\n",
       "      <th>Close/Last</th>\n",
       "      <th>Volume</th>\n",
       "      <th>Open</th>\n",
       "      <th>High</th>\n",
       "      <th>Low</th>\n",
       "    </tr>\n",
       "  </thead>\n",
       "  <tbody>\n",
       "    <tr>\n",
       "      <th>0</th>\n",
       "      <td>2025-01-31</td>\n",
       "      <td>28.51</td>\n",
       "      <td>26121560</td>\n",
       "      <td>28.77</td>\n",
       "      <td>28.845</td>\n",
       "      <td>28.390</td>\n",
       "    </tr>\n",
       "    <tr>\n",
       "      <th>1</th>\n",
       "      <td>2025-01-30</td>\n",
       "      <td>28.72</td>\n",
       "      <td>38787660</td>\n",
       "      <td>28.65</td>\n",
       "      <td>28.900</td>\n",
       "      <td>28.530</td>\n",
       "    </tr>\n",
       "    <tr>\n",
       "      <th>2</th>\n",
       "      <td>2025-01-29</td>\n",
       "      <td>28.00</td>\n",
       "      <td>28857810</td>\n",
       "      <td>28.06</td>\n",
       "      <td>28.210</td>\n",
       "      <td>27.850</td>\n",
       "    </tr>\n",
       "    <tr>\n",
       "      <th>3</th>\n",
       "      <td>2025-01-28</td>\n",
       "      <td>27.63</td>\n",
       "      <td>15636500</td>\n",
       "      <td>27.53</td>\n",
       "      <td>27.760</td>\n",
       "      <td>27.385</td>\n",
       "    </tr>\n",
       "    <tr>\n",
       "      <th>4</th>\n",
       "      <td>2025-01-27</td>\n",
       "      <td>27.46</td>\n",
       "      <td>22691540</td>\n",
       "      <td>27.50</td>\n",
       "      <td>27.740</td>\n",
       "      <td>27.050</td>\n",
       "    </tr>\n",
       "  </tbody>\n",
       "</table>\n",
       "</div>"
      ],
      "text/plain": [
       "        Date  Close/Last    Volume   Open    High     Low\n",
       "0 2025-01-31       28.51  26121560  28.77  28.845  28.390\n",
       "1 2025-01-30       28.72  38787660  28.65  28.900  28.530\n",
       "2 2025-01-29       28.00  28857810  28.06  28.210  27.850\n",
       "3 2025-01-28       27.63  15636500  27.53  27.760  27.385\n",
       "4 2025-01-27       27.46  22691540  27.50  27.740  27.050"
      ]
     },
     "execution_count": 5,
     "metadata": {},
     "output_type": "execute_result"
    }
   ],
   "source": [
    "data = pd.read_csv(\"slv.csv\", parse_dates=[\"Date\"])\n",
    "data.head()"
   ]
  },
  {
   "cell_type": "markdown",
   "id": "c959d89b-69bd-41a0-8930-134cf1ac440e",
   "metadata": {},
   "source": [
    "#### Transform Data"
   ]
  },
  {
   "cell_type": "code",
   "execution_count": 7,
   "id": "b023e640-6ffa-48ad-b988-4b3402a094f8",
   "metadata": {},
   "outputs": [],
   "source": [
    "# All columns to float\n",
    "cols = ['Close/Last', 'Open', 'High', 'Low']\n",
    "\n",
    "# Remove dollar sign and float values\n",
    "dollar_to_float = lambda x: float(str(x).replace(\"$\", \"\"))"
   ]
  },
  {
   "cell_type": "code",
   "execution_count": 8,
   "id": "cbf8bc1a-896e-4177-a6ce-41fc2313e81f",
   "metadata": {},
   "outputs": [],
   "source": [
    "# Apply transformation to columns\n",
    "for c in cols:\n",
    "    data[c] = data[c].apply(dollar_to_float)"
   ]
  },
  {
   "cell_type": "code",
   "execution_count": 9,
   "id": "8ef75f69-6263-47a6-9faf-e0416db6574a",
   "metadata": {},
   "outputs": [],
   "source": [
    "data[\"Low\"] = data[\"Low\"].round(2)"
   ]
  },
  {
   "cell_type": "code",
   "execution_count": 10,
   "id": "03f4eba6",
   "metadata": {},
   "outputs": [],
   "source": [
    "data.set_index(\"Date\", inplace=True)"
   ]
  },
  {
   "cell_type": "code",
   "execution_count": 11,
   "id": "c69515b3",
   "metadata": {},
   "outputs": [],
   "source": [
    "data.rename(columns={\"Close/Last\":\"Close\"}, inplace=True)"
   ]
  },
  {
   "cell_type": "code",
   "execution_count": 12,
   "id": "4fe5d3f3",
   "metadata": {},
   "outputs": [
    {
     "name": "stdout",
     "output_type": "stream",
     "text": [
      "<class 'pandas.core.frame.DataFrame'>\n",
      "DatetimeIndex: 1257 entries, 2025-01-31 to 2020-02-03\n",
      "Data columns (total 5 columns):\n",
      " #   Column  Non-Null Count  Dtype  \n",
      "---  ------  --------------  -----  \n",
      " 0   Close   1257 non-null   float64\n",
      " 1   Volume  1257 non-null   int64  \n",
      " 2   Open    1257 non-null   float64\n",
      " 3   High    1257 non-null   float64\n",
      " 4   Low     1257 non-null   float64\n",
      "dtypes: float64(4), int64(1)\n",
      "memory usage: 58.9 KB\n"
     ]
    }
   ],
   "source": [
    "data.info()"
   ]
  },
  {
   "cell_type": "markdown",
   "id": "e99a4a70",
   "metadata": {},
   "source": [
    "#### Data Cleaning"
   ]
  },
  {
   "cell_type": "code",
   "execution_count": 14,
   "id": "e0026750",
   "metadata": {},
   "outputs": [],
   "source": [
    "date_range = pd.date_range(start=min(data.index), end=max(data.index), freq=\"D\")\n",
    "data_filled = data.reindex(date_range, fill_value=np.nan)"
   ]
  },
  {
   "cell_type": "code",
   "execution_count": 15,
   "id": "82dc6cf0",
   "metadata": {},
   "outputs": [
    {
     "name": "stderr",
     "output_type": "stream",
     "text": [
      "C:\\Users\\jac67\\AppData\\Local\\Temp\\ipykernel_6104\\4114892114.py:5: FutureWarning: Series.fillna with 'method' is deprecated and will raise in a future version. Use obj.ffill() or obj.bfill() instead.\n",
      "  data_filled[c] = data_filled[c].fillna(method=\"ffill\")\n"
     ]
    },
    {
     "data": {
      "text/html": [
       "<div>\n",
       "<style scoped>\n",
       "    .dataframe tbody tr th:only-of-type {\n",
       "        vertical-align: middle;\n",
       "    }\n",
       "\n",
       "    .dataframe tbody tr th {\n",
       "        vertical-align: top;\n",
       "    }\n",
       "\n",
       "    .dataframe thead th {\n",
       "        text-align: right;\n",
       "    }\n",
       "</style>\n",
       "<table border=\"1\" class=\"dataframe\">\n",
       "  <thead>\n",
       "    <tr style=\"text-align: right;\">\n",
       "      <th></th>\n",
       "      <th>Close</th>\n",
       "      <th>Volume</th>\n",
       "      <th>Open</th>\n",
       "      <th>High</th>\n",
       "      <th>Low</th>\n",
       "    </tr>\n",
       "  </thead>\n",
       "  <tbody>\n",
       "    <tr>\n",
       "      <th>2020-02-03</th>\n",
       "      <td>16.50</td>\n",
       "      <td>17770560.0</td>\n",
       "      <td>16.61</td>\n",
       "      <td>16.6161</td>\n",
       "      <td>16.43</td>\n",
       "    </tr>\n",
       "    <tr>\n",
       "      <th>2020-02-04</th>\n",
       "      <td>16.45</td>\n",
       "      <td>13522260.0</td>\n",
       "      <td>16.52</td>\n",
       "      <td>16.5399</td>\n",
       "      <td>16.36</td>\n",
       "    </tr>\n",
       "    <tr>\n",
       "      <th>2020-02-05</th>\n",
       "      <td>16.46</td>\n",
       "      <td>8713851.0</td>\n",
       "      <td>16.45</td>\n",
       "      <td>16.4811</td>\n",
       "      <td>16.39</td>\n",
       "    </tr>\n",
       "    <tr>\n",
       "      <th>2020-02-06</th>\n",
       "      <td>16.63</td>\n",
       "      <td>10583480.0</td>\n",
       "      <td>16.65</td>\n",
       "      <td>16.6600</td>\n",
       "      <td>16.55</td>\n",
       "    </tr>\n",
       "    <tr>\n",
       "      <th>2020-02-07</th>\n",
       "      <td>16.54</td>\n",
       "      <td>11066420.0</td>\n",
       "      <td>16.61</td>\n",
       "      <td>16.6400</td>\n",
       "      <td>16.47</td>\n",
       "    </tr>\n",
       "    <tr>\n",
       "      <th>2020-02-08</th>\n",
       "      <td>16.54</td>\n",
       "      <td>11066420.0</td>\n",
       "      <td>16.61</td>\n",
       "      <td>16.6400</td>\n",
       "      <td>16.47</td>\n",
       "    </tr>\n",
       "    <tr>\n",
       "      <th>2020-02-09</th>\n",
       "      <td>16.54</td>\n",
       "      <td>11066420.0</td>\n",
       "      <td>16.61</td>\n",
       "      <td>16.6400</td>\n",
       "      <td>16.47</td>\n",
       "    </tr>\n",
       "    <tr>\n",
       "      <th>2020-02-10</th>\n",
       "      <td>16.61</td>\n",
       "      <td>7382747.0</td>\n",
       "      <td>16.59</td>\n",
       "      <td>16.6600</td>\n",
       "      <td>16.54</td>\n",
       "    </tr>\n",
       "    <tr>\n",
       "      <th>2020-02-11</th>\n",
       "      <td>16.48</td>\n",
       "      <td>10832680.0</td>\n",
       "      <td>16.54</td>\n",
       "      <td>16.5500</td>\n",
       "      <td>16.40</td>\n",
       "    </tr>\n",
       "    <tr>\n",
       "      <th>2020-02-12</th>\n",
       "      <td>16.33</td>\n",
       "      <td>10358680.0</td>\n",
       "      <td>16.35</td>\n",
       "      <td>16.4000</td>\n",
       "      <td>16.30</td>\n",
       "    </tr>\n",
       "  </tbody>\n",
       "</table>\n",
       "</div>"
      ],
      "text/plain": [
       "            Close      Volume   Open     High    Low\n",
       "2020-02-03  16.50  17770560.0  16.61  16.6161  16.43\n",
       "2020-02-04  16.45  13522260.0  16.52  16.5399  16.36\n",
       "2020-02-05  16.46   8713851.0  16.45  16.4811  16.39\n",
       "2020-02-06  16.63  10583480.0  16.65  16.6600  16.55\n",
       "2020-02-07  16.54  11066420.0  16.61  16.6400  16.47\n",
       "2020-02-08  16.54  11066420.0  16.61  16.6400  16.47\n",
       "2020-02-09  16.54  11066420.0  16.61  16.6400  16.47\n",
       "2020-02-10  16.61   7382747.0  16.59  16.6600  16.54\n",
       "2020-02-11  16.48  10832680.0  16.54  16.5500  16.40\n",
       "2020-02-12  16.33  10358680.0  16.35  16.4000  16.30"
      ]
     },
     "execution_count": 15,
     "metadata": {},
     "output_type": "execute_result"
    }
   ],
   "source": [
    "# Fill missing dates with previous week's price\n",
    "cols = [\"Close\", \"Volume\", \"Open\", \"High\", \"Low\"]\n",
    "\n",
    "for c in cols:\n",
    "    data_filled[c] = data_filled[c].fillna(method=\"ffill\")\n",
    "\n",
    "#data_filled.index = pd.to_datetime(data_filled.index)\n",
    "data_filled.head(10)"
   ]
  },
  {
   "cell_type": "markdown",
   "id": "07f376bf-a638-4546-86de-1f66511910e1",
   "metadata": {},
   "source": [
    "#### Export Finalized Data"
   ]
  },
  {
   "cell_type": "code",
   "execution_count": 17,
   "id": "d5c0cdd3-6010-43ae-8b70-2dea3f7e873a",
   "metadata": {},
   "outputs": [],
   "source": [
    "processed_data = data_filled.to_csv(\"processed_data.csv\")"
   ]
  },
  {
   "cell_type": "code",
   "execution_count": null,
   "id": "480d639e-2b91-40b7-a1ce-693c2c1c2cce",
   "metadata": {},
   "outputs": [],
   "source": []
  }
 ],
 "metadata": {
  "kernelspec": {
   "display_name": "Python 3 (ipykernel)",
   "language": "python",
   "name": "python3"
  },
  "language_info": {
   "codemirror_mode": {
    "name": "ipython",
    "version": 3
   },
   "file_extension": ".py",
   "mimetype": "text/x-python",
   "name": "python",
   "nbconvert_exporter": "python",
   "pygments_lexer": "ipython3",
   "version": "3.12.4"
  }
 },
 "nbformat": 4,
 "nbformat_minor": 5
}
