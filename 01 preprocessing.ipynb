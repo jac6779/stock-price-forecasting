{
 "cells": [
  {
   "cell_type": "markdown",
   "id": "bc88df9a",
   "metadata": {},
   "source": [
    "#### Import libraries"
   ]
  },
  {
   "cell_type": "code",
   "execution_count": 2,
   "id": "8e61eeb9",
   "metadata": {},
   "outputs": [],
   "source": [
    "import pandas as pd\n",
    "import numpy as np\n",
    "import datetime"
   ]
  },
  {
   "cell_type": "code",
   "execution_count": 3,
   "id": "90d500e0",
   "metadata": {},
   "outputs": [
    {
     "name": "stdout",
     "output_type": "stream",
     "text": [
      "Today is 2025-02-10\n"
     ]
    }
   ],
   "source": [
    "today = datetime.datetime.today()\n",
    "today = today.strftime('%Y-%m-%d')\n",
    "\n",
    "print(\"Today is \" + str(today))"
   ]
  },
  {
   "cell_type": "markdown",
   "id": "6edfc173",
   "metadata": {},
   "source": [
    "#### Import data\n",
    "Source: https://www.nasdaq.com/market-activity/stocks"
   ]
  },
  {
   "cell_type": "code",
   "execution_count": 5,
   "id": "61bfec79",
   "metadata": {},
   "outputs": [
    {
     "data": {
      "text/html": [
       "<div>\n",
       "<style scoped>\n",
       "    .dataframe tbody tr th:only-of-type {\n",
       "        vertical-align: middle;\n",
       "    }\n",
       "\n",
       "    .dataframe tbody tr th {\n",
       "        vertical-align: top;\n",
       "    }\n",
       "\n",
       "    .dataframe thead th {\n",
       "        text-align: right;\n",
       "    }\n",
       "</style>\n",
       "<table border=\"1\" class=\"dataframe\">\n",
       "  <thead>\n",
       "    <tr style=\"text-align: right;\">\n",
       "      <th></th>\n",
       "      <th>Date</th>\n",
       "      <th>Close/Last</th>\n",
       "      <th>Volume</th>\n",
       "      <th>Open</th>\n",
       "      <th>High</th>\n",
       "      <th>Low</th>\n",
       "    </tr>\n",
       "  </thead>\n",
       "  <tbody>\n",
       "    <tr>\n",
       "      <th>0</th>\n",
       "      <td>2024-12-12</td>\n",
       "      <td>69.92</td>\n",
       "      <td>48284</td>\n",
       "      <td>70.31</td>\n",
       "      <td>70.3362</td>\n",
       "      <td>69.920</td>\n",
       "    </tr>\n",
       "    <tr>\n",
       "      <th>1</th>\n",
       "      <td>2024-12-11</td>\n",
       "      <td>70.54</td>\n",
       "      <td>35156</td>\n",
       "      <td>70.92</td>\n",
       "      <td>71.1891</td>\n",
       "      <td>70.450</td>\n",
       "    </tr>\n",
       "    <tr>\n",
       "      <th>2</th>\n",
       "      <td>2024-12-10</td>\n",
       "      <td>70.52</td>\n",
       "      <td>70930</td>\n",
       "      <td>71.00</td>\n",
       "      <td>71.0000</td>\n",
       "      <td>69.955</td>\n",
       "    </tr>\n",
       "    <tr>\n",
       "      <th>3</th>\n",
       "      <td>2024-12-09</td>\n",
       "      <td>71.48</td>\n",
       "      <td>51351</td>\n",
       "      <td>71.54</td>\n",
       "      <td>71.6800</td>\n",
       "      <td>71.360</td>\n",
       "    </tr>\n",
       "    <tr>\n",
       "      <th>4</th>\n",
       "      <td>2024-12-06</td>\n",
       "      <td>71.22</td>\n",
       "      <td>66262</td>\n",
       "      <td>71.67</td>\n",
       "      <td>71.7100</td>\n",
       "      <td>71.090</td>\n",
       "    </tr>\n",
       "  </tbody>\n",
       "</table>\n",
       "</div>"
      ],
      "text/plain": [
       "        Date  Close/Last  Volume   Open     High     Low\n",
       "0 2024-12-12       69.92   48284  70.31  70.3362  69.920\n",
       "1 2024-12-11       70.54   35156  70.92  71.1891  70.450\n",
       "2 2024-12-10       70.52   70930  71.00  71.0000  69.955\n",
       "3 2024-12-09       71.48   51351  71.54  71.6800  71.360\n",
       "4 2024-12-06       71.22   66262  71.67  71.7100  71.090"
      ]
     },
     "execution_count": 5,
     "metadata": {},
     "output_type": "execute_result"
    }
   ],
   "source": [
    "data = pd.read_csv(\"pho.csv\", parse_dates=[\"Date\"])\n",
    "data.head()"
   ]
  },
  {
   "cell_type": "markdown",
   "id": "c959d89b-69bd-41a0-8930-134cf1ac440e",
   "metadata": {},
   "source": [
    "#### Transform Data"
   ]
  },
  {
   "cell_type": "code",
   "execution_count": 7,
   "id": "b023e640-6ffa-48ad-b988-4b3402a094f8",
   "metadata": {},
   "outputs": [],
   "source": [
    "# All columns to float\n",
    "cols = ['Close/Last', 'Open', 'High', 'Low']\n",
    "\n",
    "# Remove dollar sign and float values\n",
    "dollar_to_float = lambda x: float(str(x).replace(\"$\", \"\"))"
   ]
  },
  {
   "cell_type": "code",
   "execution_count": 8,
   "id": "cbf8bc1a-896e-4177-a6ce-41fc2313e81f",
   "metadata": {},
   "outputs": [],
   "source": [
    "# Apply transformation to columns\n",
    "for c in cols:\n",
    "    data[c] = data[c].apply(dollar_to_float)"
   ]
  },
  {
   "cell_type": "code",
   "execution_count": 9,
   "id": "8ef75f69-6263-47a6-9faf-e0416db6574a",
   "metadata": {},
   "outputs": [],
   "source": [
    "data[\"Low\"] = data[\"Low\"].round(2)"
   ]
  },
  {
   "cell_type": "code",
   "execution_count": 10,
   "id": "03f4eba6",
   "metadata": {},
   "outputs": [],
   "source": [
    "data.set_index(\"Date\", inplace=True)"
   ]
  },
  {
   "cell_type": "code",
   "execution_count": 11,
   "id": "c69515b3",
   "metadata": {},
   "outputs": [],
   "source": [
    "data.rename(columns={\"Close/Last\":\"Close\"}, inplace=True)"
   ]
  },
  {
   "cell_type": "code",
   "execution_count": 12,
   "id": "4fe5d3f3",
   "metadata": {},
   "outputs": [
    {
     "name": "stdout",
     "output_type": "stream",
     "text": [
      "<class 'pandas.core.frame.DataFrame'>\n",
      "DatetimeIndex: 1258 entries, 2024-12-12 to 2019-12-13\n",
      "Data columns (total 5 columns):\n",
      " #   Column  Non-Null Count  Dtype  \n",
      "---  ------  --------------  -----  \n",
      " 0   Close   1258 non-null   float64\n",
      " 1   Volume  1258 non-null   int64  \n",
      " 2   Open    1258 non-null   float64\n",
      " 3   High    1258 non-null   float64\n",
      " 4   Low     1258 non-null   float64\n",
      "dtypes: float64(4), int64(1)\n",
      "memory usage: 59.0 KB\n"
     ]
    }
   ],
   "source": [
    "data.info()"
   ]
  },
  {
   "cell_type": "markdown",
   "id": "e99a4a70",
   "metadata": {},
   "source": [
    "#### Data Cleaning"
   ]
  },
  {
   "cell_type": "code",
   "execution_count": 14,
   "id": "e0026750",
   "metadata": {},
   "outputs": [],
   "source": [
    "date_range = pd.date_range(start=min(data.index), end=max(data.index), freq=\"D\")\n",
    "data_filled = data.reindex(date_range, fill_value=np.nan)"
   ]
  },
  {
   "cell_type": "code",
   "execution_count": 15,
   "id": "82dc6cf0",
   "metadata": {},
   "outputs": [
    {
     "data": {
      "text/html": [
       "<div>\n",
       "<style scoped>\n",
       "    .dataframe tbody tr th:only-of-type {\n",
       "        vertical-align: middle;\n",
       "    }\n",
       "\n",
       "    .dataframe tbody tr th {\n",
       "        vertical-align: top;\n",
       "    }\n",
       "\n",
       "    .dataframe thead th {\n",
       "        text-align: right;\n",
       "    }\n",
       "</style>\n",
       "<table border=\"1\" class=\"dataframe\">\n",
       "  <thead>\n",
       "    <tr style=\"text-align: right;\">\n",
       "      <th></th>\n",
       "      <th>Close</th>\n",
       "      <th>Volume</th>\n",
       "      <th>Open</th>\n",
       "      <th>High</th>\n",
       "      <th>Low</th>\n",
       "    </tr>\n",
       "  </thead>\n",
       "  <tbody>\n",
       "    <tr>\n",
       "      <th>2019-12-13</th>\n",
       "      <td>38.0143</td>\n",
       "      <td>32234.0</td>\n",
       "      <td>38.11</td>\n",
       "      <td>38.26</td>\n",
       "      <td>37.96</td>\n",
       "    </tr>\n",
       "    <tr>\n",
       "      <th>2019-12-14</th>\n",
       "      <td>38.0143</td>\n",
       "      <td>32234.0</td>\n",
       "      <td>38.11</td>\n",
       "      <td>38.26</td>\n",
       "      <td>37.96</td>\n",
       "    </tr>\n",
       "    <tr>\n",
       "      <th>2019-12-15</th>\n",
       "      <td>38.0143</td>\n",
       "      <td>32234.0</td>\n",
       "      <td>38.11</td>\n",
       "      <td>38.26</td>\n",
       "      <td>37.96</td>\n",
       "    </tr>\n",
       "    <tr>\n",
       "      <th>2019-12-16</th>\n",
       "      <td>38.2300</td>\n",
       "      <td>424985.0</td>\n",
       "      <td>38.24</td>\n",
       "      <td>38.35</td>\n",
       "      <td>38.16</td>\n",
       "    </tr>\n",
       "    <tr>\n",
       "      <th>2019-12-17</th>\n",
       "      <td>38.3300</td>\n",
       "      <td>234159.0</td>\n",
       "      <td>38.30</td>\n",
       "      <td>38.35</td>\n",
       "      <td>38.13</td>\n",
       "    </tr>\n",
       "    <tr>\n",
       "      <th>2019-12-18</th>\n",
       "      <td>38.1800</td>\n",
       "      <td>79375.0</td>\n",
       "      <td>38.37</td>\n",
       "      <td>38.37</td>\n",
       "      <td>37.95</td>\n",
       "    </tr>\n",
       "    <tr>\n",
       "      <th>2019-12-19</th>\n",
       "      <td>38.2938</td>\n",
       "      <td>51152.0</td>\n",
       "      <td>38.20</td>\n",
       "      <td>38.35</td>\n",
       "      <td>38.16</td>\n",
       "    </tr>\n",
       "    <tr>\n",
       "      <th>2019-12-20</th>\n",
       "      <td>38.6000</td>\n",
       "      <td>72218.0</td>\n",
       "      <td>38.38</td>\n",
       "      <td>38.61</td>\n",
       "      <td>38.38</td>\n",
       "    </tr>\n",
       "    <tr>\n",
       "      <th>2019-12-21</th>\n",
       "      <td>38.6000</td>\n",
       "      <td>72218.0</td>\n",
       "      <td>38.38</td>\n",
       "      <td>38.61</td>\n",
       "      <td>38.38</td>\n",
       "    </tr>\n",
       "    <tr>\n",
       "      <th>2019-12-22</th>\n",
       "      <td>38.6000</td>\n",
       "      <td>72218.0</td>\n",
       "      <td>38.38</td>\n",
       "      <td>38.61</td>\n",
       "      <td>38.38</td>\n",
       "    </tr>\n",
       "  </tbody>\n",
       "</table>\n",
       "</div>"
      ],
      "text/plain": [
       "              Close    Volume   Open   High    Low\n",
       "2019-12-13  38.0143   32234.0  38.11  38.26  37.96\n",
       "2019-12-14  38.0143   32234.0  38.11  38.26  37.96\n",
       "2019-12-15  38.0143   32234.0  38.11  38.26  37.96\n",
       "2019-12-16  38.2300  424985.0  38.24  38.35  38.16\n",
       "2019-12-17  38.3300  234159.0  38.30  38.35  38.13\n",
       "2019-12-18  38.1800   79375.0  38.37  38.37  37.95\n",
       "2019-12-19  38.2938   51152.0  38.20  38.35  38.16\n",
       "2019-12-20  38.6000   72218.0  38.38  38.61  38.38\n",
       "2019-12-21  38.6000   72218.0  38.38  38.61  38.38\n",
       "2019-12-22  38.6000   72218.0  38.38  38.61  38.38"
      ]
     },
     "execution_count": 15,
     "metadata": {},
     "output_type": "execute_result"
    }
   ],
   "source": [
    "# Fill missing dates with previous week's price\n",
    "cols = [\"Close\", \"Volume\", \"Open\", \"High\", \"Low\"]\n",
    "\n",
    "for c in cols:\n",
    "    data_filled[c] = data_filled[c].ffill()\n",
    "\n",
    "data_filled.head(10)"
   ]
  },
  {
   "cell_type": "markdown",
   "id": "07f376bf-a638-4546-86de-1f66511910e1",
   "metadata": {},
   "source": [
    "#### Export Finalized Data"
   ]
  },
  {
   "cell_type": "code",
   "execution_count": 17,
   "id": "d5c0cdd3-6010-43ae-8b70-2dea3f7e873a",
   "metadata": {},
   "outputs": [],
   "source": [
    "processed_data = data_filled.to_csv(\"processed_data.csv\")"
   ]
  }
 ],
 "metadata": {
  "kernelspec": {
   "display_name": "Python 3 (ipykernel)",
   "language": "python",
   "name": "python3"
  },
  "language_info": {
   "codemirror_mode": {
    "name": "ipython",
    "version": 3
   },
   "file_extension": ".py",
   "mimetype": "text/x-python",
   "name": "python",
   "nbconvert_exporter": "python",
   "pygments_lexer": "ipython3",
   "version": "3.12.4"
  }
 },
 "nbformat": 4,
 "nbformat_minor": 5
}
