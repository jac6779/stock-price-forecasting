{
 "cells": [
  {
   "cell_type": "markdown",
   "id": "bc88df9a",
   "metadata": {},
   "source": [
    "#### Import libraries"
   ]
  },
  {
   "cell_type": "code",
   "execution_count": null,
   "id": "8e61eeb9",
   "metadata": {},
   "outputs": [],
   "source": [
    "import pandas as pd\n",
    "import numpy as np\n",
    "import datetime"
   ]
  },
  {
   "cell_type": "code",
   "execution_count": null,
   "id": "90d500e0",
   "metadata": {},
   "outputs": [],
   "source": [
    "today = datetime.datetime.today()\n",
    "today = today.strftime('%Y-%m-%d')\n",
    "\n",
    "print(\"Today is \" + str(today))"
   ]
  },
  {
   "cell_type": "markdown",
   "id": "6edfc173",
   "metadata": {},
   "source": [
    "#### Import data\n",
    "Source: https://www.nasdaq.com/market-activity/stocks"
   ]
  },
  {
   "cell_type": "code",
   "execution_count": null,
   "id": "61bfec79",
   "metadata": {},
   "outputs": [],
   "source": [
    "data = pd.read_csv(\"pho.csv\", parse_dates=[\"Date\"])\n",
    "data.head()"
   ]
  },
  {
   "cell_type": "markdown",
   "id": "c959d89b-69bd-41a0-8930-134cf1ac440e",
   "metadata": {},
   "source": [
    "#### Transform Data"
   ]
  },
  {
   "cell_type": "code",
   "execution_count": null,
   "id": "b023e640-6ffa-48ad-b988-4b3402a094f8",
   "metadata": {},
   "outputs": [],
   "source": [
    "# All columns to float\n",
    "cols = ['Close/Last', 'Open', 'High', 'Low']\n",
    "\n",
    "# Remove dollar sign and float values\n",
    "dollar_to_float = lambda x: float(str(x).replace(\"$\", \"\"))"
   ]
  },
  {
   "cell_type": "code",
   "execution_count": null,
   "id": "cbf8bc1a-896e-4177-a6ce-41fc2313e81f",
   "metadata": {},
   "outputs": [],
   "source": [
    "# Apply transformation to columns\n",
    "for c in cols:\n",
    "    data[c] = data[c].apply(dollar_to_float)"
   ]
  },
  {
   "cell_type": "code",
   "execution_count": null,
   "id": "8ef75f69-6263-47a6-9faf-e0416db6574a",
   "metadata": {},
   "outputs": [],
   "source": [
    "data[\"Low\"] = data[\"Low\"].round(2)"
   ]
  },
  {
   "cell_type": "code",
   "execution_count": null,
   "id": "03f4eba6",
   "metadata": {},
   "outputs": [],
   "source": [
    "data.set_index(\"Date\", inplace=True)"
   ]
  },
  {
   "cell_type": "code",
   "execution_count": null,
   "id": "c69515b3",
   "metadata": {},
   "outputs": [],
   "source": [
    "data.rename(columns={\"Close/Last\":\"Close\"}, inplace=True)"
   ]
  },
  {
   "cell_type": "code",
   "execution_count": null,
   "id": "4fe5d3f3",
   "metadata": {},
   "outputs": [],
   "source": [
    "data.info()"
   ]
  },
  {
   "cell_type": "markdown",
   "id": "e99a4a70",
   "metadata": {},
   "source": [
    "#### Data Cleaning"
   ]
  },
  {
   "cell_type": "code",
   "execution_count": null,
   "id": "e0026750",
   "metadata": {},
   "outputs": [],
   "source": [
    "date_range = pd.date_range(start=min(data.index), end=max(data.index), freq=\"D\")\n",
    "data_filled = data.reindex(date_range, fill_value=np.nan)"
   ]
  },
  {
   "cell_type": "code",
   "execution_count": null,
   "id": "82dc6cf0",
   "metadata": {},
   "outputs": [],
   "source": [
    "# Fill missing dates with previous week's price\n",
    "cols = [\"Close\", \"Volume\", \"Open\", \"High\", \"Low\"]\n",
    "\n",
    "for c in cols:\n",
    "    data_filled[c] = data_filled[c].ffill()\n",
    "\n",
    "#data_filled.index = pd.to_datetime(data_filled.index)\n",
    "data_filled.head(10)"
   ]
  },
  {
   "cell_type": "markdown",
   "id": "07f376bf-a638-4546-86de-1f66511910e1",
   "metadata": {},
   "source": [
    "#### Export Finalized Data"
   ]
  },
  {
   "cell_type": "code",
   "execution_count": null,
   "id": "d5c0cdd3-6010-43ae-8b70-2dea3f7e873a",
   "metadata": {},
   "outputs": [],
   "source": [
    "processed_data = data_filled.to_csv(\"processed_data.csv\")"
   ]
  },
  {
   "cell_type": "code",
   "execution_count": null,
   "id": "480d639e-2b91-40b7-a1ce-693c2c1c2cce",
   "metadata": {},
   "outputs": [],
   "source": []
  }
 ],
 "metadata": {
  "kernelspec": {
   "display_name": "Python 3 (ipykernel)",
   "language": "python",
   "name": "python3"
  },
  "language_info": {
   "codemirror_mode": {
    "name": "ipython",
    "version": 3
   },
   "file_extension": ".py",
   "mimetype": "text/x-python",
   "name": "python",
   "nbconvert_exporter": "python",
   "pygments_lexer": "ipython3",
   "version": "3.12.4"
  }
 },
 "nbformat": 4,
 "nbformat_minor": 5
}
