{
 "cells": [
  {
   "cell_type": "markdown",
   "id": "bc88df9a",
   "metadata": {},
   "source": [
    "#### Import libraries"
   ]
  },
  {
   "cell_type": "code",
   "execution_count": 2,
   "id": "8e61eeb9",
   "metadata": {},
   "outputs": [],
   "source": [
    "import pandas as pd\n",
    "import numpy as np\n",
    "import datetime"
   ]
  },
  {
   "cell_type": "code",
   "execution_count": 3,
   "id": "90d500e0",
   "metadata": {},
   "outputs": [
    {
     "name": "stdout",
     "output_type": "stream",
     "text": [
      "Today is 2024-12-18\n"
     ]
    }
   ],
   "source": [
    "today = datetime.datetime.today()\n",
    "today = today.strftime('%Y-%m-%d')\n",
    "\n",
    "print(\"Today is \" + str(today))"
   ]
  },
  {
   "cell_type": "markdown",
   "id": "6edfc173",
   "metadata": {},
   "source": [
    "#### Import data\n",
    "Source: https://www.nasdaq.com/market-activity/stocks"
   ]
  },
  {
   "cell_type": "code",
   "execution_count": 5,
   "id": "61bfec79",
   "metadata": {},
   "outputs": [
    {
     "data": {
      "text/html": [
       "<div>\n",
       "<style scoped>\n",
       "    .dataframe tbody tr th:only-of-type {\n",
       "        vertical-align: middle;\n",
       "    }\n",
       "\n",
       "    .dataframe tbody tr th {\n",
       "        vertical-align: top;\n",
       "    }\n",
       "\n",
       "    .dataframe thead th {\n",
       "        text-align: right;\n",
       "    }\n",
       "</style>\n",
       "<table border=\"1\" class=\"dataframe\">\n",
       "  <thead>\n",
       "    <tr style=\"text-align: right;\">\n",
       "      <th></th>\n",
       "      <th>Date</th>\n",
       "      <th>Close/Last</th>\n",
       "      <th>Volume</th>\n",
       "      <th>Open</th>\n",
       "      <th>High</th>\n",
       "      <th>Low</th>\n",
       "    </tr>\n",
       "  </thead>\n",
       "  <tbody>\n",
       "    <tr>\n",
       "      <th>0</th>\n",
       "      <td>2024-12-17</td>\n",
       "      <td>86.48</td>\n",
       "      <td>1513482</td>\n",
       "      <td>84.70</td>\n",
       "      <td>86.590</td>\n",
       "      <td>82.270</td>\n",
       "    </tr>\n",
       "    <tr>\n",
       "      <th>1</th>\n",
       "      <td>2024-12-16</td>\n",
       "      <td>82.59</td>\n",
       "      <td>1550022</td>\n",
       "      <td>77.92</td>\n",
       "      <td>84.590</td>\n",
       "      <td>76.840</td>\n",
       "    </tr>\n",
       "    <tr>\n",
       "      <th>2</th>\n",
       "      <td>2024-12-13</td>\n",
       "      <td>77.64</td>\n",
       "      <td>694437</td>\n",
       "      <td>75.59</td>\n",
       "      <td>77.665</td>\n",
       "      <td>74.900</td>\n",
       "    </tr>\n",
       "    <tr>\n",
       "      <th>3</th>\n",
       "      <td>2024-12-12</td>\n",
       "      <td>74.49</td>\n",
       "      <td>656844</td>\n",
       "      <td>76.50</td>\n",
       "      <td>77.540</td>\n",
       "      <td>74.370</td>\n",
       "    </tr>\n",
       "    <tr>\n",
       "      <th>4</th>\n",
       "      <td>2024-12-11</td>\n",
       "      <td>76.45</td>\n",
       "      <td>492946</td>\n",
       "      <td>78.33</td>\n",
       "      <td>78.390</td>\n",
       "      <td>74.064</td>\n",
       "    </tr>\n",
       "  </tbody>\n",
       "</table>\n",
       "</div>"
      ],
      "text/plain": [
       "        Date  Close/Last   Volume   Open    High     Low\n",
       "0 2024-12-17       86.48  1513482  84.70  86.590  82.270\n",
       "1 2024-12-16       82.59  1550022  77.92  84.590  76.840\n",
       "2 2024-12-13       77.64   694437  75.59  77.665  74.900\n",
       "3 2024-12-12       74.49   656844  76.50  77.540  74.370\n",
       "4 2024-12-11       76.45   492946  78.33  78.390  74.064"
      ]
     },
     "execution_count": 5,
     "metadata": {},
     "output_type": "execute_result"
    }
   ],
   "source": [
    "data = pd.read_csv(\"qtum.csv\", parse_dates=[\"Date\"])\n",
    "data.head()"
   ]
  },
  {
   "cell_type": "markdown",
   "id": "c959d89b-69bd-41a0-8930-134cf1ac440e",
   "metadata": {},
   "source": [
    "#### Transform Data"
   ]
  },
  {
   "cell_type": "code",
   "execution_count": 13,
   "id": "b023e640-6ffa-48ad-b988-4b3402a094f8",
   "metadata": {},
   "outputs": [],
   "source": [
    "# All columns to float\n",
    "cols = ['Close/Last', 'Open', 'High', 'Low']\n",
    "\n",
    "# Remove dollar sign and float values\n",
    "dollar_to_float = lambda x: float(str(x).replace(\"$\", \"\"))"
   ]
  },
  {
   "cell_type": "code",
   "execution_count": 15,
   "id": "cbf8bc1a-896e-4177-a6ce-41fc2313e81f",
   "metadata": {},
   "outputs": [],
   "source": [
    "# Apply transformation to columns\n",
    "for c in cols:\n",
    "    data[c] = data[c].apply(dollar_to_float)"
   ]
  },
  {
   "cell_type": "code",
   "execution_count": 17,
   "id": "8ef75f69-6263-47a6-9faf-e0416db6574a",
   "metadata": {},
   "outputs": [],
   "source": [
    "data[\"Low\"] = data[\"Low\"].round(2)"
   ]
  },
  {
   "cell_type": "code",
   "execution_count": 19,
   "id": "03f4eba6",
   "metadata": {},
   "outputs": [],
   "source": [
    "data.set_index(\"Date\", inplace=True)"
   ]
  },
  {
   "cell_type": "code",
   "execution_count": 21,
   "id": "c69515b3",
   "metadata": {},
   "outputs": [],
   "source": [
    "data.rename(columns={\"Close/Last\":\"Close\"}, inplace=True)"
   ]
  },
  {
   "cell_type": "code",
   "execution_count": 23,
   "id": "4fe5d3f3",
   "metadata": {},
   "outputs": [
    {
     "name": "stdout",
     "output_type": "stream",
     "text": [
      "<class 'pandas.core.frame.DataFrame'>\n",
      "DatetimeIndex: 1258 entries, 2024-12-17 to 2019-12-18\n",
      "Data columns (total 5 columns):\n",
      " #   Column  Non-Null Count  Dtype  \n",
      "---  ------  --------------  -----  \n",
      " 0   Close   1258 non-null   float64\n",
      " 1   Volume  1258 non-null   int64  \n",
      " 2   Open    1258 non-null   float64\n",
      " 3   High    1258 non-null   float64\n",
      " 4   Low     1258 non-null   float64\n",
      "dtypes: float64(4), int64(1)\n",
      "memory usage: 59.0 KB\n"
     ]
    }
   ],
   "source": [
    "data.info()"
   ]
  },
  {
   "cell_type": "markdown",
   "id": "e99a4a70",
   "metadata": {},
   "source": [
    "#### Data Cleaning"
   ]
  },
  {
   "cell_type": "code",
   "execution_count": 26,
   "id": "e0026750",
   "metadata": {},
   "outputs": [],
   "source": [
    "date_range = pd.date_range(start=min(data.index), end=max(data.index), freq=\"D\")\n",
    "data_filled = data.reindex(date_range, fill_value=np.nan)"
   ]
  },
  {
   "cell_type": "code",
   "execution_count": 28,
   "id": "82dc6cf0",
   "metadata": {},
   "outputs": [
    {
     "name": "stderr",
     "output_type": "stream",
     "text": [
      "C:\\Users\\jac67\\AppData\\Local\\Temp\\ipykernel_21448\\4114892114.py:5: FutureWarning: Series.fillna with 'method' is deprecated and will raise in a future version. Use obj.ffill() or obj.bfill() instead.\n",
      "  data_filled[c] = data_filled[c].fillna(method=\"ffill\")\n"
     ]
    },
    {
     "data": {
      "text/html": [
       "<div>\n",
       "<style scoped>\n",
       "    .dataframe tbody tr th:only-of-type {\n",
       "        vertical-align: middle;\n",
       "    }\n",
       "\n",
       "    .dataframe tbody tr th {\n",
       "        vertical-align: top;\n",
       "    }\n",
       "\n",
       "    .dataframe thead th {\n",
       "        text-align: right;\n",
       "    }\n",
       "</style>\n",
       "<table border=\"1\" class=\"dataframe\">\n",
       "  <thead>\n",
       "    <tr style=\"text-align: right;\">\n",
       "      <th></th>\n",
       "      <th>Close</th>\n",
       "      <th>Volume</th>\n",
       "      <th>Open</th>\n",
       "      <th>High</th>\n",
       "      <th>Low</th>\n",
       "    </tr>\n",
       "  </thead>\n",
       "  <tbody>\n",
       "    <tr>\n",
       "      <th>2019-12-18</th>\n",
       "      <td>28.9787</td>\n",
       "      <td>27351.0</td>\n",
       "      <td>29.09</td>\n",
       "      <td>29.0900</td>\n",
       "      <td>28.94</td>\n",
       "    </tr>\n",
       "    <tr>\n",
       "      <th>2019-12-19</th>\n",
       "      <td>29.1600</td>\n",
       "      <td>18240.0</td>\n",
       "      <td>28.97</td>\n",
       "      <td>29.1700</td>\n",
       "      <td>28.97</td>\n",
       "    </tr>\n",
       "    <tr>\n",
       "      <th>2019-12-20</th>\n",
       "      <td>29.4200</td>\n",
       "      <td>38043.0</td>\n",
       "      <td>29.37</td>\n",
       "      <td>29.4400</td>\n",
       "      <td>29.26</td>\n",
       "    </tr>\n",
       "    <tr>\n",
       "      <th>2019-12-21</th>\n",
       "      <td>29.4200</td>\n",
       "      <td>38043.0</td>\n",
       "      <td>29.37</td>\n",
       "      <td>29.4400</td>\n",
       "      <td>29.26</td>\n",
       "    </tr>\n",
       "    <tr>\n",
       "      <th>2019-12-22</th>\n",
       "      <td>29.4200</td>\n",
       "      <td>38043.0</td>\n",
       "      <td>29.37</td>\n",
       "      <td>29.4400</td>\n",
       "      <td>29.26</td>\n",
       "    </tr>\n",
       "    <tr>\n",
       "      <th>2019-12-23</th>\n",
       "      <td>29.5100</td>\n",
       "      <td>62534.0</td>\n",
       "      <td>29.59</td>\n",
       "      <td>29.6553</td>\n",
       "      <td>29.42</td>\n",
       "    </tr>\n",
       "    <tr>\n",
       "      <th>2019-12-24</th>\n",
       "      <td>29.4322</td>\n",
       "      <td>8045.0</td>\n",
       "      <td>29.52</td>\n",
       "      <td>29.5200</td>\n",
       "      <td>29.38</td>\n",
       "    </tr>\n",
       "    <tr>\n",
       "      <th>2019-12-25</th>\n",
       "      <td>29.4322</td>\n",
       "      <td>8045.0</td>\n",
       "      <td>29.52</td>\n",
       "      <td>29.5200</td>\n",
       "      <td>29.38</td>\n",
       "    </tr>\n",
       "    <tr>\n",
       "      <th>2019-12-26</th>\n",
       "      <td>29.5264</td>\n",
       "      <td>27100.0</td>\n",
       "      <td>29.57</td>\n",
       "      <td>29.6600</td>\n",
       "      <td>29.44</td>\n",
       "    </tr>\n",
       "    <tr>\n",
       "      <th>2019-12-27</th>\n",
       "      <td>29.4761</td>\n",
       "      <td>43437.0</td>\n",
       "      <td>29.72</td>\n",
       "      <td>29.7200</td>\n",
       "      <td>29.43</td>\n",
       "    </tr>\n",
       "  </tbody>\n",
       "</table>\n",
       "</div>"
      ],
      "text/plain": [
       "              Close   Volume   Open     High    Low\n",
       "2019-12-18  28.9787  27351.0  29.09  29.0900  28.94\n",
       "2019-12-19  29.1600  18240.0  28.97  29.1700  28.97\n",
       "2019-12-20  29.4200  38043.0  29.37  29.4400  29.26\n",
       "2019-12-21  29.4200  38043.0  29.37  29.4400  29.26\n",
       "2019-12-22  29.4200  38043.0  29.37  29.4400  29.26\n",
       "2019-12-23  29.5100  62534.0  29.59  29.6553  29.42\n",
       "2019-12-24  29.4322   8045.0  29.52  29.5200  29.38\n",
       "2019-12-25  29.4322   8045.0  29.52  29.5200  29.38\n",
       "2019-12-26  29.5264  27100.0  29.57  29.6600  29.44\n",
       "2019-12-27  29.4761  43437.0  29.72  29.7200  29.43"
      ]
     },
     "execution_count": 28,
     "metadata": {},
     "output_type": "execute_result"
    }
   ],
   "source": [
    "# Fill missing dates with previous week's price\n",
    "cols = [\"Close\", \"Volume\", \"Open\", \"High\", \"Low\"]\n",
    "\n",
    "for c in cols:\n",
    "    data_filled[c] = data_filled[c].fillna(method=\"ffill\")\n",
    "\n",
    "#data_filled.index = pd.to_datetime(data_filled.index)\n",
    "data_filled.head(10)"
   ]
  },
  {
   "cell_type": "markdown",
   "id": "07f376bf-a638-4546-86de-1f66511910e1",
   "metadata": {},
   "source": [
    "#### Export Finalized Data"
   ]
  },
  {
   "cell_type": "code",
   "execution_count": 31,
   "id": "d5c0cdd3-6010-43ae-8b70-2dea3f7e873a",
   "metadata": {},
   "outputs": [],
   "source": [
    "processed_data = data_filled.to_csv(\"processed_data.csv\")"
   ]
  },
  {
   "cell_type": "code",
   "execution_count": null,
   "id": "480d639e-2b91-40b7-a1ce-693c2c1c2cce",
   "metadata": {},
   "outputs": [],
   "source": []
  }
 ],
 "metadata": {
  "kernelspec": {
   "display_name": "Python 3 (ipykernel)",
   "language": "python",
   "name": "python3"
  },
  "language_info": {
   "codemirror_mode": {
    "name": "ipython",
    "version": 3
   },
   "file_extension": ".py",
   "mimetype": "text/x-python",
   "name": "python",
   "nbconvert_exporter": "python",
   "pygments_lexer": "ipython3",
   "version": "3.12.4"
  }
 },
 "nbformat": 4,
 "nbformat_minor": 5
}
