{
 "cells": [
  {
   "cell_type": "markdown",
   "id": "bc88df9a",
   "metadata": {},
   "source": [
    "#### Import libraries"
   ]
  },
  {
   "cell_type": "code",
   "execution_count": null,
   "id": "8e61eeb9",
   "metadata": {},
   "outputs": [],
   "source": [
    "import pandas as pd\n",
    "import numpy as np\n",
    "\n",
    "import datetime"
   ]
  },
  {
   "cell_type": "code",
   "execution_count": null,
   "id": "90d500e0",
   "metadata": {},
   "outputs": [],
   "source": [
    "today = datetime.datetime.today()\n",
    "today = today.strftime('%Y-%m-%d')\n",
    "\n",
    "print(\"Today is \" + str(today))"
   ]
  },
  {
   "cell_type": "markdown",
   "id": "6edfc173",
   "metadata": {},
   "source": [
    "#### Import data\n",
    "Source: https://www.nasdaq.com/market-activity/stocks/msft/historical"
   ]
  },
  {
   "cell_type": "code",
   "execution_count": null,
   "id": "61bfec79",
   "metadata": {},
   "outputs": [],
   "source": [
    "data = pd.read_csv(\"processed_data.csv\")"
   ]
  },
  {
   "cell_type": "code",
   "execution_count": null,
   "id": "03f4eba6",
   "metadata": {},
   "outputs": [],
   "source": [
    "data.rename(columns={\"Unnamed: 0\":\"Date\"}, inplace=True)"
   ]
  },
  {
   "cell_type": "code",
   "execution_count": null,
   "id": "ca796a14-e601-4f1a-8337-0c079ce50a68",
   "metadata": {},
   "outputs": [],
   "source": [
    "data.set_index(\"Date\", inplace=True)\n",
    "data.index = pd.to_datetime(data.index)"
   ]
  },
  {
   "cell_type": "code",
   "execution_count": null,
   "id": "3974b1e6-07ef-40d5-95d5-201ba723d861",
   "metadata": {},
   "outputs": [],
   "source": [
    "data.head()"
   ]
  },
  {
   "cell_type": "code",
   "execution_count": null,
   "id": "4fe5d3f3",
   "metadata": {},
   "outputs": [],
   "source": [
    "data.info()"
   ]
  },
  {
   "cell_type": "markdown",
   "id": "aacc99ba-b10e-47b4-a3b0-6dd040e89dba",
   "metadata": {},
   "source": [
    "#### Date Range For Modeling"
   ]
  },
  {
   "cell_type": "code",
   "execution_count": null,
   "id": "845f4e41-88ca-4de8-8403-31e809434856",
   "metadata": {},
   "outputs": [],
   "source": [
    "model_data = data[\"Close\"].loc[\"2023-01-01\":\"2024-11-30\"]"
   ]
  },
  {
   "cell_type": "markdown",
   "id": "a0fc4df2",
   "metadata": {},
   "source": [
    "#### Test & Train Split"
   ]
  },
  {
   "cell_type": "code",
   "execution_count": null,
   "id": "f11e9aab-baae-4dcf-a9a0-c29e02242b44",
   "metadata": {},
   "outputs": [],
   "source": [
    "# Set training and testing sizes\n",
    "train_size = int(len(model_data) * 0.90)\n",
    "\n",
    "train, test = model_data[0:train_size], model_data[train_size:len(data)]"
   ]
  },
  {
   "cell_type": "markdown",
   "id": "878cdaf0",
   "metadata": {},
   "source": [
    "#### Visualizations"
   ]
  },
  {
   "cell_type": "code",
   "execution_count": null,
   "id": "7786a515-72f5-42e4-a220-b35074be57d6",
   "metadata": {},
   "outputs": [],
   "source": [
    "import matplotlib.pyplot as plt\n",
    "import seaborn as sns\n",
    "sns.set()"
   ]
  },
  {
   "cell_type": "code",
   "execution_count": null,
   "id": "ce1c22c9",
   "metadata": {},
   "outputs": [],
   "source": [
    "plt.plot(train, color=\"blue\", label=\"Train Split\")\n",
    "plt.plot(test, color=\"green\", label=\"Test Split\")\n",
    "plt.title(\"Closing price stock price\", fontsize=16, pad=20)\n",
    "plt.xticks(rotation=45)\n",
    "plt.show()"
   ]
  },
  {
   "cell_type": "markdown",
   "id": "15123c74-899e-4f92-b159-97f0effa5d15",
   "metadata": {},
   "source": [
    "#### ADF Test for Stationality"
   ]
  },
  {
   "cell_type": "code",
   "execution_count": null,
   "id": "7d009956-8714-4abf-947d-c1b6c55a45a7",
   "metadata": {},
   "outputs": [],
   "source": [
    "# Import Libraries\n",
    "from statsmodels.tsa.stattools import adfuller\n",
    "from statsmodels.graphics.tsaplots import plot_acf, plot_pacf\n",
    "from statsmodels.tsa.arima.model import ARIMA"
   ]
  },
  {
   "cell_type": "code",
   "execution_count": null,
   "id": "3ef969bf-da80-4266-af8f-dfefe97a1eb0",
   "metadata": {},
   "outputs": [],
   "source": [
    "# ADF Test No Difference\n",
    "adf_test = adfuller(train)\n",
    "print(f\"p-value: {adf_test[1]}\")"
   ]
  },
  {
   "cell_type": "code",
   "execution_count": null,
   "id": "96eaf019-37a5-48e4-9f45-60ced59e0505",
   "metadata": {},
   "outputs": [],
   "source": [
    "# Plot ACF and PCF\n",
    "plot_acf(train)\n",
    "plot_pacf(train)\n",
    "plt.show()"
   ]
  },
  {
   "cell_type": "code",
   "execution_count": null,
   "id": "c07ddacd-e309-4f2d-ab06-1c42f0cf1dbe",
   "metadata": {},
   "outputs": [],
   "source": [
    "# ADF Test With Differencing in first order\n",
    "train_df_diff = train.diff().dropna()\n",
    "train_df_diff.plot()"
   ]
  },
  {
   "cell_type": "code",
   "execution_count": null,
   "id": "bc159dae-df7c-49f5-85a6-3f8be4414adf",
   "metadata": {},
   "outputs": [],
   "source": [
    "# ADF Test With Differencing in first order\n",
    "adf_test_diff = adfuller(train_df_diff)\n",
    "print(f\"p-value: {adf_test_diff[1]}\")"
   ]
  },
  {
   "cell_type": "code",
   "execution_count": null,
   "id": "85ec7a7b-3be3-4ee3-804c-f503181e0c08",
   "metadata": {},
   "outputs": [],
   "source": [
    "plot_acf(train_df_diff)\n",
    "plot_pacf(train_df_diff)\n",
    "plt.show()"
   ]
  },
  {
   "cell_type": "markdown",
   "id": "628a0719-2727-4ae9-85e8-a4995447b072",
   "metadata": {},
   "source": [
    "#### Time Series Model"
   ]
  },
  {
   "cell_type": "code",
   "execution_count": null,
   "id": "2b4b1982-62ab-4ea6-abce-ac795a75fa97",
   "metadata": {},
   "outputs": [],
   "source": [
    "model = ARIMA(train, order=(0,1,0), freq=\"D\")\n",
    "model_fit = model.fit()\n",
    "model_fit.summary()"
   ]
  },
  {
   "cell_type": "markdown",
   "id": "e0f30fd1-46e3-4187-a6f0-403ba608e99c",
   "metadata": {},
   "source": [
    "#### Residuals Plot"
   ]
  },
  {
   "cell_type": "code",
   "execution_count": null,
   "id": "935b1da1-29b7-4518-a140-1b5de4516f09",
   "metadata": {},
   "outputs": [],
   "source": [
    "residuals = model_fit.resid[1:]\n",
    "fig, ax = plt.subplots(1,2)\n",
    "residuals.plot(title=\"Residuals\", ax=ax[0])\n",
    "residuals.plot(title=\"Density\", kind=\"kde\", ax=ax[1])\n",
    "plt.show()"
   ]
  },
  {
   "cell_type": "code",
   "execution_count": null,
   "id": "60c90aa4-782c-43a5-bf04-e0fed66a7fa8",
   "metadata": {},
   "outputs": [],
   "source": [
    "# ACF and PACF plots of Residuals\n",
    "plot_acf(residuals)\n",
    "plot_pacf(residuals)\n",
    "plt.show()"
   ]
  },
  {
   "cell_type": "markdown",
   "id": "13fb4ccc-488c-48c8-9431-4dcbc918cc68",
   "metadata": {},
   "source": [
    "#### Forecast On Testing Data With Model"
   ]
  },
  {
   "cell_type": "code",
   "execution_count": null,
   "id": "44d1d532-99f8-4e9b-b66d-1d2b4167d9a0",
   "metadata": {},
   "outputs": [],
   "source": [
    "forecast = model_fit.forecast(steps=len(test))"
   ]
  },
  {
   "cell_type": "code",
   "execution_count": null,
   "id": "05fdb53d-f97d-4873-a522-e371fa0d49df",
   "metadata": {},
   "outputs": [],
   "source": [
    "# Compare Test Data with Forecast Data\n",
    "comparison = pd.DataFrame()\n",
    "comparison[\"Test\"] = test.round(2)\n",
    "comparison[\"Forecast\"] = forecast.round(2)\n",
    "comparison.head()"
   ]
  },
  {
   "cell_type": "markdown",
   "id": "0d460081-099e-4a19-b230-14d847856f73",
   "metadata": {},
   "source": [
    "#### Analyze Model Performance"
   ]
  },
  {
   "cell_type": "code",
   "execution_count": null,
   "id": "01b45dea-96cd-46db-94ff-6a703ff2504b",
   "metadata": {},
   "outputs": [],
   "source": [
    "from sklearn.metrics import mean_absolute_error, mean_absolute_percentage_error, mean_squared_error\n",
    "\n",
    "mae = mean_absolute_error(test, forecast)\n",
    "mape = mean_absolute_percentage_error(test, forecast)\n",
    "rsme = mean_squared_error(test, forecast)\n",
    "\n",
    "print(\"Mean Absolute Error =\", round(mae, 3))\n",
    "print(\"Mean Absolute Percentage Error =\", round(mape, 3))\n",
    "print(\"Mean Squared Error =\", round(rsme, 3))"
   ]
  },
  {
   "cell_type": "code",
   "execution_count": null,
   "id": "1cdb7440-4cfa-49d9-b5fe-a8a0f7be1269",
   "metadata": {},
   "outputs": [],
   "source": [
    "# Ratio of RSME to mean of model data inputs\n",
    "ratio = rsme / np.mean(model_data)\n",
    "\n",
    "if ratio >= 0.05:\n",
    "    print(\"There is likely medium to high error in this model. Ratio is\", f\"{ratio:.1%}\")\n",
    "else:\n",
    "    print(\"There is likely low error in this model, as the ratio of RSME to mean of input values is\", f\"{ratio:.1%}\")"
   ]
  },
  {
   "cell_type": "markdown",
   "id": "3471a880-6c32-4601-be6b-9a9080f2d755",
   "metadata": {},
   "source": [
    "#### Predict Future Prices"
   ]
  },
  {
   "cell_type": "code",
   "execution_count": null,
   "id": "0b6145a3-2f4a-49b7-b23a-39e24cfadc03",
   "metadata": {},
   "outputs": [],
   "source": [
    "predicton_steps = 30\n",
    "start_index = len(train) + len(test)\n",
    "end_index = start_index + predicton_steps\n",
    "\n",
    "predictions = model_fit.predict(start = start_index, end=end_index)"
   ]
  },
  {
   "cell_type": "code",
   "execution_count": null,
   "id": "a8c3d42e-1850-4a38-b8e8-7adea0d2ffe8",
   "metadata": {},
   "outputs": [],
   "source": [
    "# View last five rows of future predictions\n",
    "predictions.tail(15).round(2)"
   ]
  },
  {
   "cell_type": "markdown",
   "id": "408d57da-57f2-43e8-84de-c4d97ca85701",
   "metadata": {},
   "source": [
    "#### Plot Test, Train, and Forecast"
   ]
  },
  {
   "cell_type": "code",
   "execution_count": null,
   "id": "223890e8-7d6c-44a0-bf6b-f75633f6c59c",
   "metadata": {},
   "outputs": [],
   "source": [
    "plt.plot(train, label=\"Train\", color=\"blue\")\n",
    "plt.plot(test, label=\"Test\", color=\"green\")\n",
    "plt.plot(forecast, label=\"Model Forecast\", color=\"red\")\n",
    "plt.plot(predictions, label=\"Model Future Predictions\", color=\"black\")\n",
    "plt.title(\"Predicted closing price stock price\", fontsize=18, pad=20)\n",
    "plt.xticks(rotation=45)\n",
    "plt.legend()\n",
    "plt.show()"
   ]
  },
  {
   "cell_type": "code",
   "execution_count": null,
   "id": "2f001f54-fb00-4bcf-9b3a-5a06811352b6",
   "metadata": {},
   "outputs": [],
   "source": []
  }
 ],
 "metadata": {
  "kernelspec": {
   "display_name": "Python 3 (ipykernel)",
   "language": "python",
   "name": "python3"
  },
  "language_info": {
   "codemirror_mode": {
    "name": "ipython",
    "version": 3
   },
   "file_extension": ".py",
   "mimetype": "text/x-python",
   "name": "python",
   "nbconvert_exporter": "python",
   "pygments_lexer": "ipython3",
   "version": "3.12.4"
  }
 },
 "nbformat": 4,
 "nbformat_minor": 5
}
